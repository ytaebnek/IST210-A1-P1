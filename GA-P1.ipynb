{
 "cells": [
  {
   "cell_type": "markdown",
   "metadata": {},
   "source": [
    "# Idea 1"
   ]
  },
  {
   "cell_type": "markdown",
   "metadata": {},
   "source": [
    "   This database serves to detail an IT repair desk which deals with repairing and servicing person computers. The database for the repair desk consists of seven entities; Employees, Job Title, Skill Set, Degree/Certification, Assignment, PCs To Be Repaired, and IT Repair Desk. The repair desk takes in end-user data in the form of the customer's PC problem and the date the computer was given to the IT desk. Once this computer is given to the support team details surrounding the issue will determine the skill set required, creating a unique assignment for the computer. This assignment will draw on employees who have the particular skills required to combat the issue with the computer. For a particular employee to fit under the required skill group they will have to have a certain degree and or certification to their name, ensuring that the proper staff is working on an issue that fits their knowledge base. The Job Title entity is meant to give a description for each of the employees, such as their title, pay, and date of hire. Employees will have an assignment within their respective entity so that you can ensure the workload is distributed more evenly across the company and that not only one employee is tasked with all the repairs. Assignments may also require more than one employee based on the needs of the problem identified. The repair queue, represented by the PCs To Be Repaired entity, will ensure that repairs and done in a timely manner in the time they were received. Finally, the main IT Repair Desk entity will house the current que, hours of the business based on the date, and location(s) of the business. \n"
   ]
  },
  {
   "cell_type": "markdown",
   "metadata": {},
   "source": [
    "<img src=\"210-GA1.png\" />"
   ]
  },
  {
   "cell_type": "markdown",
   "metadata": {},
   "source": [
    "# Idea 2"
   ]
  },
  {
   "cell_type": "markdown",
   "metadata": {},
   "source": [
    "I intend to create a database that could theoretically work as the basis of a web-application serving to track the books that a user reads. This information would be self-reported and would automatically fill in objective details such as author, ISBN, genre and year of publication; the system would use this to do statistical analysis on the user’s reading habits and recommend relevant or similar content. This is different than many internet services that make heavy use of recommendations (e.g. Amazon) in that reading paper books ipso facto cannot be tracked automatically – manual user input is necessary. The goal is to create a service that people will use and thus generate advertising revenue.\n",
    "\n",
    "Tables:\n",
    "\n",
    "a. User input (dynamic): Username (entity) linked to every book (entity) they input, listed in the table by ISBN to avoid confusing similar names. Also includes their rating given by the user (constraint: 0-100)\n",
    "\n",
    "b. Book information: Contains objective information about every book (entity) that the system recognizes. Name, ISBN, Author, year of publication (constraint: 2000BC-currentyear), genre (all attributes).\n",
    "\n",
    "c. Book+user (dynamic): Averages ratings given by users for each individual book to serve as a list in order of highest-lowest rated. Can be cross-referenced with table b to make more specific rankings. (entity)\n",
    "\n",
    "d. User’s recommendations based on other users (dynamic): Result of simple computerized analysis of tables c and a. Users with similar highly-rated books are matched against one another to create mutual recommendations.\n",
    "\n",
    "e. User’s recommendations based on objective data (dynamic): References highly-rated books against others by the same author, genre, or approximate year."
   ]
  },
  {
   "cell_type": "markdown",
   "metadata": {},
   "source": [
    "# Idea 3"
   ]
  },
  {
   "cell_type": "markdown",
   "metadata": {},
   "source": [
    "This database serves to support a realty company. The database will deal with 6 entities; Employees, estates, clients, assignment, area and market. This database will be able to store any property from any area, past or present, and it will be able to determine a market retail price for the house. It will do so by taking the house being listed and compare it similar houses previously sold in a similar area. A typical business interaction would be; the client decides to sell their home, so they reach out to the realty company. The company would enter their home into their database to be appraised. Then once the market value is obtained it would be placed on the market for the employees to try and sell. The Employees table consists of employee names, email addresses, email, phone number, salary and team. This table would also take in the end user data, such as date listed and any problems with the house. The Estates table would cover things like address, bedrooms, bathrooms, square footage and acreage. The Clients table would store anyone’s information who have sold, bought, or had interest in a house before such as name, address, email, phone number and income. The Assignment table will deal with Employees and their teams and currently listed properties and they would reach out to clients to try and sell the house. The Area table will contain things such as population, average income, school ratings, crime rate, and taxes. All which will play a factor in the price of the house, either in a positive or negative way. Lastly, the market will store things such as houses currently listed, price, address, open house dates and employee team contact information."
   ]
  },
  {
   "cell_type": "code",
   "execution_count": null,
   "metadata": {},
   "outputs": [],
   "source": []
  }
 ],
 "metadata": {
  "kernelspec": {
   "display_name": "Python 3",
   "language": "python",
   "name": "python3"
  },
  "language_info": {
   "codemirror_mode": {
    "name": "ipython",
    "version": 3
   },
   "file_extension": ".py",
   "mimetype": "text/x-python",
   "name": "python",
   "nbconvert_exporter": "python",
   "pygments_lexer": "ipython3",
   "version": "3.7.3"
  }
 },
 "nbformat": 4,
 "nbformat_minor": 2
}
